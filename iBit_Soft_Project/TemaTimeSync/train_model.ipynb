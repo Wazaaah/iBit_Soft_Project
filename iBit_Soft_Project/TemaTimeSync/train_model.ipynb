{
 "cells": [
  {
   "cell_type": "code",
   "execution_count": null,
   "metadata": {},
   "outputs": [],
   "source": [
    "import pandas as pd\n",
    "from sklearn.model_selection import train_test_split, GridSearchCV\n",
    "from sklearn.preprocessing import LabelEncoder\n",
    "from sklearn.ensemble import RandomForestClassifier\n",
    "from sklearn.tree import DecisionTreeClassifier\n",
    "from sklearn.ensemble import StackingClassifier\n",
    "from sklearn.ensemble import AdaBoostClassifier\n",
    "from sklearn.ensemble import VotingClassifier\n",
    "from sklearn.metrics import accuracy_score, classification_report\n",
    "import joblib\n",
    "import seaborn as sns\n",
    "import matplotlib.pyplot as plt\n"
   ]
  },
  {
   "cell_type": "code",
   "execution_count": null,
   "metadata": {},
   "outputs": [],
   "source": [
    "employee_data = pd.read_csv(\"C:\\\\Users\\\\Administrator\\\\Desktop\\\\iBit_Soft_Project_-1\\\\iBit_Soft_Project\\\\TemaTimeSync\\\\train.csv\")\n"
   ]
  },
  {
   "cell_type": "code",
   "execution_count": null,
   "metadata": {},
   "outputs": [],
   "source": [
    "# Encode categorical features (whether the person is late or not)\n",
    "label_encoders = {}\n",
    "for column in employee_data.select_dtypes(include=['object']).columns:\n",
    "    le = LabelEncoder()\n",
    "    employee_data[column] = le.fit_transform(employee_data[column])\n",
    "    label_encoders[column] = le\n"
   ]
  },
  {
   "cell_type": "code",
   "execution_count": null,
   "metadata": {},
   "outputs": [],
   "source": [
    "employee_data = employee_data.drop(columns=['LAST LOGOUT'])"
   ]
  },
  {
   "cell_type": "code",
   "execution_count": null,
   "metadata": {},
   "outputs": [],
   "source": [
    "employee_data"
   ]
  },
  {
   "cell_type": "code",
   "execution_count": null,
   "metadata": {},
   "outputs": [],
   "source": [
    "# Feature-target separation\n",
    "X = employee_data.drop(columns=['IS LATE'])  \n",
    "y = employee_data['IS LATE']\n"
   ]
  },
  {
   "cell_type": "code",
   "execution_count": null,
   "metadata": {},
   "outputs": [],
   "source": [
    "#splitting the data into training and test sets\n",
    "X_train, X_test, y_train, y_test = train_test_split(X, y, test_size=0.2, random_state=42)\n"
   ]
  },
  {
   "cell_type": "code",
   "execution_count": null,
   "metadata": {},
   "outputs": [],
   "source": [
    "model = AdaBoostClassifier(n_estimators=100, learning_rate=0.1)\n",
    "#Model training\n",
    "model.fit(X_train, y_train)\n",
    "#Model Testing\n",
    "y_pred = model.predict(X_test)\n",
    "accuracy = accuracy_score(y_test, y_pred)\n",
    "print(f'Accuracy: {accuracy:.2f}')"
   ]
  },
  {
   "cell_type": "code",
   "execution_count": null,
   "metadata": {},
   "outputs": [],
   "source": [
    "report = classification_report(y_test, y_pred)\n",
    "print('The Classification Report:')\n",
    "print(report)"
   ]
  },
  {
   "cell_type": "code",
   "execution_count": null,
   "metadata": {},
   "outputs": [],
   "source": [
    "#initializing the model(most deal for making the predictions)\n",
    "model_two = DecisionTreeClassifier(max_depth=2000)\n",
    "#Model training\n",
    "model_two.fit(X_train, y_train)\n",
    "#Model Testing\n",
    "y_pred = model_two.predict(X_test)\n",
    "accuracy = accuracy_score(y_test, y_pred)\n",
    "print(f'Accuracy: {accuracy:.2f}')\n"
   ]
  },
  {
   "cell_type": "code",
   "execution_count": null,
   "metadata": {},
   "outputs": [],
   "source": [
    "report = classification_report(y_test, y_pred)\n",
    "print('The Classification Report:')\n",
    "print(report)"
   ]
  },
  {
   "cell_type": "code",
   "execution_count": null,
   "metadata": {},
   "outputs": [],
   "source": [
    "#initializing the model(most deal for making the predictions)\n",
    "model_three = RandomForestClassifier(n_estimators=100, random_state=42)\n",
    "#Model training\n",
    "model_three.fit(X_train, y_train)\n",
    "#Model Testing\n",
    "y_pred = model_three.predict(X_test)\n",
    "accuracy = accuracy_score(y_test, y_pred)\n",
    "print(f'Accuracy: {accuracy:.2f}')\n"
   ]
  },
  {
   "cell_type": "code",
   "execution_count": null,
   "metadata": {},
   "outputs": [],
   "source": [
    "report = classification_report(y_test, y_pred)\n",
    "print('The Classification Report:')\n",
    "print(report)"
   ]
  },
  {
   "cell_type": "code",
   "execution_count": null,
   "metadata": {},
   "outputs": [],
   "source": [
    "estimators = [\n",
    "    (\"Banana\",model),\n",
    "    (\"Apple\", model_two),\n",
    "    (\"Shirt\", model_three),\n",
    "]\n",
    "\n",
    "stack_model = StackingClassifier(estimators=estimators, final_estimator=DecisionTreeClassifier(max_depth=1000))\n",
    "stack_model.fit(X_train, y_train)\n",
    "#Model Testing\n",
    "y_pred = stack_model.predict(X_test)\n",
    "accuracy = accuracy_score(y_test, y_pred)\n",
    "print(f'Accuracy: {accuracy:.2f}')"
   ]
  },
  {
   "cell_type": "code",
   "execution_count": null,
   "metadata": {},
   "outputs": [],
   "source": [
    "report = classification_report(y_test, y_pred)\n",
    "print('The Classification Report:')\n",
    "print(report)"
   ]
  },
  {
   "cell_type": "code",
   "execution_count": null,
   "metadata": {},
   "outputs": [],
   "source": [
    "# Refined grid search for hyperparameter tuning of the best estimator\n",
    "\n",
    "refined_param_grid = {\n",
    "    'final_estimator__max_depth': [12, 15, 18],\n",
    "    'final_estimator__min_samples_split': [5, 7, 10]\n",
    "}\n",
    "\n",
    "refined_grid_search = GridSearchCV(stack_model, refined_param_grid, cv=5, scoring='accuracy', n_jobs=-1)\n",
    "\n",
    "# Fit the refined grid search on the training data\n",
    "refined_grid_search.fit(X_train, y_train)\n",
    "\n",
    "# Best estimator from the refined grid search\n",
    "stack_model2 = refined_grid_search.best_estimator_\n",
    "\n",
    "# Fit the model on the training data\n",
    "stack_model2.fit(X_train, y_train)\n",
    "\n",
    "# Predict the target values on the test data using the model\n",
    "y_pred_final = stack_model2.predict(X_test)\n",
    "\n",
    "# Evaluate the model using various metrics\n",
    "print(f\"Stack Model 2 Accuracy Score: {accuracy_score(y_test, y_pred_final)}\")\n"
   ]
  },
  {
   "cell_type": "code",
   "execution_count": null,
   "metadata": {},
   "outputs": [],
   "source": [
    "report = classification_report(y_test, y_pred)\n",
    "print('The Classification Report:')\n",
    "print(report)"
   ]
  },
  {
   "cell_type": "code",
   "execution_count": null,
   "metadata": {},
   "outputs": [],
   "source": [
    "# Define base models for ensemble\n",
    "models = [\n",
    "    ('dt', model_two),\n",
    "    ('tmodel1', stack_model),\n",
    "    ('tmodel2', stack_model2),\n",
    "    ('adaboost', model),\n",
    "    ('rforest', model_three)\n",
    "]\n",
    "\n",
    "# Initialize and fit Voting Classifier as ensemble model with base models\n",
    "ensemble_model = VotingClassifier(estimators=models)\n",
    "\n",
    "# Fit\n",
    "ensemble_model.fit(X_train, y_train)\n",
    "\n",
    "# Predict the target values on the test data using the ensemble model\n",
    "y_pred_ensemble = ensemble_model.predict(X_test)\n",
    "\n",
    "# Evaluate the ensemble model using various metrics\n",
    "print(f\"Ensemble Model Accuracy Score: {accuracy_score(y_test, y_pred_ensemble)}\")"
   ]
  },
  {
   "cell_type": "code",
   "execution_count": null,
   "metadata": {},
   "outputs": [],
   "source": [
    "report = classification_report(y_test, y_pred)\n",
    "print('The Classification Report:')\n",
    "print(report)"
   ]
  },
  {
   "cell_type": "code",
   "execution_count": null,
   "metadata": {},
   "outputs": [],
   "source": [
    "\n",
    "# Save the model, scaler, and label encoders\n",
    "joblib.dump(ensemble_model, 'lateness_prediction_model.pkl')\n"
   ]
  },
  {
   "cell_type": "code",
   "execution_count": null,
   "metadata": {},
   "outputs": [],
   "source": [
    "joblib.dump(label_encoders, 'label_encoders.pkl')"
   ]
  }
 ],
 "metadata": {
  "kernelspec": {
   "display_name": "Python 3",
   "language": "python",
   "name": "python3"
  },
  "language_info": {
   "codemirror_mode": {
    "name": "ipython",
    "version": 3
   },
   "file_extension": ".py",
   "mimetype": "text/x-python",
   "name": "python",
   "nbconvert_exporter": "python",
   "pygments_lexer": "ipython3",
   "version": "3.11.4"
  }
 },
 "nbformat": 4,
 "nbformat_minor": 2
}
