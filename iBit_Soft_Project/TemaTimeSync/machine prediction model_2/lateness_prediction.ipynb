{
 "cells": [
  {
   "metadata": {
    "ExecuteTime": {
     "end_time": "2024-08-28T10:44:58.517864Z",
     "start_time": "2024-08-28T10:44:58.195942Z"
    }
   },
   "cell_type": "code",
   "source": [
    "# Import necessary libraries for data manipulation and analysis\n",
    "\n",
    "import joblib\n",
    "import numpy as np\n",
    "import pandas as pd\n",
    "import xgboost as xgb\n",
    "import seaborn as sns\n",
    "import matplotlib.pyplot as plt\n",
    "from sklearn.preprocessing import LabelEncoder\n",
    "from sklearn.tree import DecisionTreeClassifier\n",
    "from sklearn.ensemble import StackingClassifier\n",
    "from sklearn.ensemble import AdaBoostClassifier\n",
    "from sklearn.model_selection import train_test_split\n",
    "from sklearn.model_selection import RandomizedSearchCV\n",
    "from sklearn.model_selection import cross_val_score, GridSearchCV\n",
    "from sklearn.ensemble import VotingClassifier\n",
    "from sklearn.metrics import accuracy_score, precision_score, f1_score"
   ],
   "id": "9c84210920da1255",
   "outputs": [],
   "execution_count": 144
  },
  {
   "cell_type": "code",
   "id": "initial_id",
   "metadata": {
    "collapsed": true,
    "ExecuteTime": {
     "end_time": "2024-08-28T10:44:58.864364Z",
     "start_time": "2024-08-28T10:44:58.544862Z"
    }
   },
   "source": "df  = pd.read_csv('dummydata.csv')",
   "outputs": [],
   "execution_count": 145
  },
  {
   "metadata": {
    "ExecuteTime": {
     "end_time": "2024-08-28T10:44:58.942906Z",
     "start_time": "2024-08-28T10:44:58.868365Z"
    }
   },
   "cell_type": "code",
   "source": "df.head()",
   "id": "3acc661064aacb02",
   "outputs": [
    {
     "data": {
      "text/plain": [
       "       USER     DATE  Year FIRST LOGIN LAST LOGOUT IS LATE\n",
       "0   Esmaria  Aug. 25  2024     5:12 am     5:35 pm      No\n",
       "1    Gizela  Aug. 25  2024     5:08 am     6:43 pm      No\n",
       "2     Eleen  Aug. 25  2024     5:20 am     9:41 pm      No\n",
       "3  Fredrika  Aug. 25  2024     5:43 am     3:41 pm      No\n",
       "4   Geoffry  Aug. 25  2024     5:35 am     9:49 pm      No"
      ],
      "text/html": [
       "<div>\n",
       "<style scoped>\n",
       "    .dataframe tbody tr th:only-of-type {\n",
       "        vertical-align: middle;\n",
       "    }\n",
       "\n",
       "    .dataframe tbody tr th {\n",
       "        vertical-align: top;\n",
       "    }\n",
       "\n",
       "    .dataframe thead th {\n",
       "        text-align: right;\n",
       "    }\n",
       "</style>\n",
       "<table border=\"1\" class=\"dataframe\">\n",
       "  <thead>\n",
       "    <tr style=\"text-align: right;\">\n",
       "      <th></th>\n",
       "      <th>USER</th>\n",
       "      <th>DATE</th>\n",
       "      <th>Year</th>\n",
       "      <th>FIRST LOGIN</th>\n",
       "      <th>LAST LOGOUT</th>\n",
       "      <th>IS LATE</th>\n",
       "    </tr>\n",
       "  </thead>\n",
       "  <tbody>\n",
       "    <tr>\n",
       "      <th>0</th>\n",
       "      <td>Esmaria</td>\n",
       "      <td>Aug. 25</td>\n",
       "      <td>2024</td>\n",
       "      <td>5:12 am</td>\n",
       "      <td>5:35 pm</td>\n",
       "      <td>No</td>\n",
       "    </tr>\n",
       "    <tr>\n",
       "      <th>1</th>\n",
       "      <td>Gizela</td>\n",
       "      <td>Aug. 25</td>\n",
       "      <td>2024</td>\n",
       "      <td>5:08 am</td>\n",
       "      <td>6:43 pm</td>\n",
       "      <td>No</td>\n",
       "    </tr>\n",
       "    <tr>\n",
       "      <th>2</th>\n",
       "      <td>Eleen</td>\n",
       "      <td>Aug. 25</td>\n",
       "      <td>2024</td>\n",
       "      <td>5:20 am</td>\n",
       "      <td>9:41 pm</td>\n",
       "      <td>No</td>\n",
       "    </tr>\n",
       "    <tr>\n",
       "      <th>3</th>\n",
       "      <td>Fredrika</td>\n",
       "      <td>Aug. 25</td>\n",
       "      <td>2024</td>\n",
       "      <td>5:43 am</td>\n",
       "      <td>3:41 pm</td>\n",
       "      <td>No</td>\n",
       "    </tr>\n",
       "    <tr>\n",
       "      <th>4</th>\n",
       "      <td>Geoffry</td>\n",
       "      <td>Aug. 25</td>\n",
       "      <td>2024</td>\n",
       "      <td>5:35 am</td>\n",
       "      <td>9:49 pm</td>\n",
       "      <td>No</td>\n",
       "    </tr>\n",
       "  </tbody>\n",
       "</table>\n",
       "</div>"
      ]
     },
     "execution_count": 146,
     "metadata": {},
     "output_type": "execute_result"
    }
   ],
   "execution_count": 146
  },
  {
   "metadata": {
    "ExecuteTime": {
     "end_time": "2024-08-28T10:44:59.054451Z",
     "start_time": "2024-08-28T10:44:58.952907Z"
    }
   },
   "cell_type": "code",
   "source": "df.info()",
   "id": "f7685424df12e9a5",
   "outputs": [
    {
     "name": "stdout",
     "output_type": "stream",
     "text": [
      "<class 'pandas.core.frame.DataFrame'>\n",
      "RangeIndex: 1000 entries, 0 to 999\n",
      "Data columns (total 6 columns):\n",
      " #   Column       Non-Null Count  Dtype \n",
      "---  ------       --------------  ----- \n",
      " 0   USER         1000 non-null   object\n",
      " 1   DATE         1000 non-null   object\n",
      " 2   Year         1000 non-null   int64 \n",
      " 3   FIRST LOGIN  1000 non-null   object\n",
      " 4   LAST LOGOUT  1000 non-null   object\n",
      " 5   IS LATE      1000 non-null   object\n",
      "dtypes: int64(1), object(5)\n",
      "memory usage: 47.0+ KB\n"
     ]
    }
   ],
   "execution_count": 147
  },
  {
   "metadata": {
    "ExecuteTime": {
     "end_time": "2024-08-28T10:44:59.149984Z",
     "start_time": "2024-08-28T10:44:59.071454Z"
    }
   },
   "cell_type": "code",
   "source": "df['Date'] = df['DATE'] + ', ' + df['Year'].astype(str)",
   "id": "6b77478bb9f7a063",
   "outputs": [],
   "execution_count": 148
  },
  {
   "metadata": {
    "ExecuteTime": {
     "end_time": "2024-08-28T10:44:59.196996Z",
     "start_time": "2024-08-28T10:44:59.154986Z"
    }
   },
   "cell_type": "code",
   "source": "df.head()",
   "id": "9b9ed2c104d92702",
   "outputs": [
    {
     "data": {
      "text/plain": [
       "       USER     DATE  Year FIRST LOGIN LAST LOGOUT IS LATE           Date\n",
       "0   Esmaria  Aug. 25  2024     5:12 am     5:35 pm      No  Aug. 25, 2024\n",
       "1    Gizela  Aug. 25  2024     5:08 am     6:43 pm      No  Aug. 25, 2024\n",
       "2     Eleen  Aug. 25  2024     5:20 am     9:41 pm      No  Aug. 25, 2024\n",
       "3  Fredrika  Aug. 25  2024     5:43 am     3:41 pm      No  Aug. 25, 2024\n",
       "4   Geoffry  Aug. 25  2024     5:35 am     9:49 pm      No  Aug. 25, 2024"
      ],
      "text/html": [
       "<div>\n",
       "<style scoped>\n",
       "    .dataframe tbody tr th:only-of-type {\n",
       "        vertical-align: middle;\n",
       "    }\n",
       "\n",
       "    .dataframe tbody tr th {\n",
       "        vertical-align: top;\n",
       "    }\n",
       "\n",
       "    .dataframe thead th {\n",
       "        text-align: right;\n",
       "    }\n",
       "</style>\n",
       "<table border=\"1\" class=\"dataframe\">\n",
       "  <thead>\n",
       "    <tr style=\"text-align: right;\">\n",
       "      <th></th>\n",
       "      <th>USER</th>\n",
       "      <th>DATE</th>\n",
       "      <th>Year</th>\n",
       "      <th>FIRST LOGIN</th>\n",
       "      <th>LAST LOGOUT</th>\n",
       "      <th>IS LATE</th>\n",
       "      <th>Date</th>\n",
       "    </tr>\n",
       "  </thead>\n",
       "  <tbody>\n",
       "    <tr>\n",
       "      <th>0</th>\n",
       "      <td>Esmaria</td>\n",
       "      <td>Aug. 25</td>\n",
       "      <td>2024</td>\n",
       "      <td>5:12 am</td>\n",
       "      <td>5:35 pm</td>\n",
       "      <td>No</td>\n",
       "      <td>Aug. 25, 2024</td>\n",
       "    </tr>\n",
       "    <tr>\n",
       "      <th>1</th>\n",
       "      <td>Gizela</td>\n",
       "      <td>Aug. 25</td>\n",
       "      <td>2024</td>\n",
       "      <td>5:08 am</td>\n",
       "      <td>6:43 pm</td>\n",
       "      <td>No</td>\n",
       "      <td>Aug. 25, 2024</td>\n",
       "    </tr>\n",
       "    <tr>\n",
       "      <th>2</th>\n",
       "      <td>Eleen</td>\n",
       "      <td>Aug. 25</td>\n",
       "      <td>2024</td>\n",
       "      <td>5:20 am</td>\n",
       "      <td>9:41 pm</td>\n",
       "      <td>No</td>\n",
       "      <td>Aug. 25, 2024</td>\n",
       "    </tr>\n",
       "    <tr>\n",
       "      <th>3</th>\n",
       "      <td>Fredrika</td>\n",
       "      <td>Aug. 25</td>\n",
       "      <td>2024</td>\n",
       "      <td>5:43 am</td>\n",
       "      <td>3:41 pm</td>\n",
       "      <td>No</td>\n",
       "      <td>Aug. 25, 2024</td>\n",
       "    </tr>\n",
       "    <tr>\n",
       "      <th>4</th>\n",
       "      <td>Geoffry</td>\n",
       "      <td>Aug. 25</td>\n",
       "      <td>2024</td>\n",
       "      <td>5:35 am</td>\n",
       "      <td>9:49 pm</td>\n",
       "      <td>No</td>\n",
       "      <td>Aug. 25, 2024</td>\n",
       "    </tr>\n",
       "  </tbody>\n",
       "</table>\n",
       "</div>"
      ]
     },
     "execution_count": 149,
     "metadata": {},
     "output_type": "execute_result"
    }
   ],
   "execution_count": 149
  },
  {
   "metadata": {
    "ExecuteTime": {
     "end_time": "2024-08-28T10:44:59.228519Z",
     "start_time": "2024-08-28T10:44:59.200998Z"
    }
   },
   "cell_type": "code",
   "source": "df = df.drop('DATE', axis=1)",
   "id": "a8f37cd04507fc50",
   "outputs": [],
   "execution_count": 150
  },
  {
   "metadata": {
    "ExecuteTime": {
     "end_time": "2024-08-28T10:44:59.259523Z",
     "start_time": "2024-08-28T10:44:59.233522Z"
    }
   },
   "cell_type": "code",
   "source": "df = df.drop('Year', axis=1)",
   "id": "4d331ca541389809",
   "outputs": [],
   "execution_count": 151
  },
  {
   "metadata": {
    "ExecuteTime": {
     "end_time": "2024-08-28T10:44:59.275522Z",
     "start_time": "2024-08-28T10:44:59.262523Z"
    }
   },
   "cell_type": "code",
   "source": "df = df.drop('LAST LOGOUT', axis=1)",
   "id": "73abdc630711b30e",
   "outputs": [],
   "execution_count": 152
  },
  {
   "metadata": {
    "ExecuteTime": {
     "end_time": "2024-08-28T10:44:59.338055Z",
     "start_time": "2024-08-28T10:44:59.285521Z"
    }
   },
   "cell_type": "code",
   "source": "df",
   "id": "9c2887053251a51f",
   "outputs": [
    {
     "data": {
      "text/plain": [
       "         USER FIRST LOGIN IS LATE           Date\n",
       "0     Esmaria     5:12 am      No  Aug. 25, 2024\n",
       "1      Gizela     5:08 am      No  Aug. 25, 2024\n",
       "2       Eleen     5:20 am      No  Aug. 25, 2024\n",
       "3    Fredrika     5:43 am      No  Aug. 25, 2024\n",
       "4     Geoffry     5:35 am      No  Aug. 25, 2024\n",
       "..        ...         ...     ...            ...\n",
       "995   Raychel    10:03 am     Yes  Aug. 25, 2024\n",
       "996    Aldous    10:50 am     Yes  Aug. 26, 2024\n",
       "997       Bob    10:04 am     Yes  Aug. 26, 2024\n",
       "998     Dalli     8:08 am     Yes  Aug. 26, 2024\n",
       "999    Keelia     8:27 am     Yes  Aug. 25, 2024\n",
       "\n",
       "[1000 rows x 4 columns]"
      ],
      "text/html": [
       "<div>\n",
       "<style scoped>\n",
       "    .dataframe tbody tr th:only-of-type {\n",
       "        vertical-align: middle;\n",
       "    }\n",
       "\n",
       "    .dataframe tbody tr th {\n",
       "        vertical-align: top;\n",
       "    }\n",
       "\n",
       "    .dataframe thead th {\n",
       "        text-align: right;\n",
       "    }\n",
       "</style>\n",
       "<table border=\"1\" class=\"dataframe\">\n",
       "  <thead>\n",
       "    <tr style=\"text-align: right;\">\n",
       "      <th></th>\n",
       "      <th>USER</th>\n",
       "      <th>FIRST LOGIN</th>\n",
       "      <th>IS LATE</th>\n",
       "      <th>Date</th>\n",
       "    </tr>\n",
       "  </thead>\n",
       "  <tbody>\n",
       "    <tr>\n",
       "      <th>0</th>\n",
       "      <td>Esmaria</td>\n",
       "      <td>5:12 am</td>\n",
       "      <td>No</td>\n",
       "      <td>Aug. 25, 2024</td>\n",
       "    </tr>\n",
       "    <tr>\n",
       "      <th>1</th>\n",
       "      <td>Gizela</td>\n",
       "      <td>5:08 am</td>\n",
       "      <td>No</td>\n",
       "      <td>Aug. 25, 2024</td>\n",
       "    </tr>\n",
       "    <tr>\n",
       "      <th>2</th>\n",
       "      <td>Eleen</td>\n",
       "      <td>5:20 am</td>\n",
       "      <td>No</td>\n",
       "      <td>Aug. 25, 2024</td>\n",
       "    </tr>\n",
       "    <tr>\n",
       "      <th>3</th>\n",
       "      <td>Fredrika</td>\n",
       "      <td>5:43 am</td>\n",
       "      <td>No</td>\n",
       "      <td>Aug. 25, 2024</td>\n",
       "    </tr>\n",
       "    <tr>\n",
       "      <th>4</th>\n",
       "      <td>Geoffry</td>\n",
       "      <td>5:35 am</td>\n",
       "      <td>No</td>\n",
       "      <td>Aug. 25, 2024</td>\n",
       "    </tr>\n",
       "    <tr>\n",
       "      <th>...</th>\n",
       "      <td>...</td>\n",
       "      <td>...</td>\n",
       "      <td>...</td>\n",
       "      <td>...</td>\n",
       "    </tr>\n",
       "    <tr>\n",
       "      <th>995</th>\n",
       "      <td>Raychel</td>\n",
       "      <td>10:03 am</td>\n",
       "      <td>Yes</td>\n",
       "      <td>Aug. 25, 2024</td>\n",
       "    </tr>\n",
       "    <tr>\n",
       "      <th>996</th>\n",
       "      <td>Aldous</td>\n",
       "      <td>10:50 am</td>\n",
       "      <td>Yes</td>\n",
       "      <td>Aug. 26, 2024</td>\n",
       "    </tr>\n",
       "    <tr>\n",
       "      <th>997</th>\n",
       "      <td>Bob</td>\n",
       "      <td>10:04 am</td>\n",
       "      <td>Yes</td>\n",
       "      <td>Aug. 26, 2024</td>\n",
       "    </tr>\n",
       "    <tr>\n",
       "      <th>998</th>\n",
       "      <td>Dalli</td>\n",
       "      <td>8:08 am</td>\n",
       "      <td>Yes</td>\n",
       "      <td>Aug. 26, 2024</td>\n",
       "    </tr>\n",
       "    <tr>\n",
       "      <th>999</th>\n",
       "      <td>Keelia</td>\n",
       "      <td>8:27 am</td>\n",
       "      <td>Yes</td>\n",
       "      <td>Aug. 25, 2024</td>\n",
       "    </tr>\n",
       "  </tbody>\n",
       "</table>\n",
       "<p>1000 rows × 4 columns</p>\n",
       "</div>"
      ]
     },
     "execution_count": 153,
     "metadata": {},
     "output_type": "execute_result"
    }
   ],
   "execution_count": 153
  },
  {
   "metadata": {
    "ExecuteTime": {
     "end_time": "2024-08-28T10:44:59.370058Z",
     "start_time": "2024-08-28T10:44:59.341054Z"
    }
   },
   "cell_type": "code",
   "source": "df.info()",
   "id": "1035ac128f3bfcae",
   "outputs": [
    {
     "name": "stdout",
     "output_type": "stream",
     "text": [
      "<class 'pandas.core.frame.DataFrame'>\n",
      "RangeIndex: 1000 entries, 0 to 999\n",
      "Data columns (total 4 columns):\n",
      " #   Column       Non-Null Count  Dtype \n",
      "---  ------       --------------  ----- \n",
      " 0   USER         1000 non-null   object\n",
      " 1   FIRST LOGIN  1000 non-null   object\n",
      " 2   IS LATE      1000 non-null   object\n",
      " 3   Date         1000 non-null   object\n",
      "dtypes: object(4)\n",
      "memory usage: 31.4+ KB\n"
     ]
    }
   ],
   "execution_count": 154
  },
  {
   "metadata": {
    "ExecuteTime": {
     "end_time": "2024-08-28T10:44:59.448583Z",
     "start_time": "2024-08-28T10:44:59.441587Z"
    }
   },
   "cell_type": "code",
   "source": "column_to_move = 'Date'",
   "id": "d7ad5570863abbce",
   "outputs": [],
   "execution_count": 155
  },
  {
   "metadata": {
    "ExecuteTime": {
     "end_time": "2024-08-28T10:44:59.986084Z",
     "start_time": "2024-08-28T10:44:59.958086Z"
    }
   },
   "cell_type": "code",
   "source": [
    "first_column = df.columns[0]\n",
    "new_column_order = [first_column] + [column_to_move] + [col for col in df.columns if col not in [first_column, column_to_move]]"
   ],
   "id": "d6d748258392fe7f",
   "outputs": [],
   "execution_count": 156
  },
  {
   "metadata": {
    "ExecuteTime": {
     "end_time": "2024-08-28T10:45:00.442572Z",
     "start_time": "2024-08-28T10:45:00.421557Z"
    }
   },
   "cell_type": "code",
   "source": "df = df[new_column_order]",
   "id": "375750067f1cef2f",
   "outputs": [],
   "execution_count": 157
  },
  {
   "metadata": {
    "ExecuteTime": {
     "end_time": "2024-08-28T10:45:00.601130Z",
     "start_time": "2024-08-28T10:45:00.575122Z"
    }
   },
   "cell_type": "code",
   "source": "df.head()",
   "id": "a973a4704ca66b8a",
   "outputs": [
    {
     "data": {
      "text/plain": [
       "       USER           Date FIRST LOGIN IS LATE\n",
       "0   Esmaria  Aug. 25, 2024     5:12 am      No\n",
       "1    Gizela  Aug. 25, 2024     5:08 am      No\n",
       "2     Eleen  Aug. 25, 2024     5:20 am      No\n",
       "3  Fredrika  Aug. 25, 2024     5:43 am      No\n",
       "4   Geoffry  Aug. 25, 2024     5:35 am      No"
      ],
      "text/html": [
       "<div>\n",
       "<style scoped>\n",
       "    .dataframe tbody tr th:only-of-type {\n",
       "        vertical-align: middle;\n",
       "    }\n",
       "\n",
       "    .dataframe tbody tr th {\n",
       "        vertical-align: top;\n",
       "    }\n",
       "\n",
       "    .dataframe thead th {\n",
       "        text-align: right;\n",
       "    }\n",
       "</style>\n",
       "<table border=\"1\" class=\"dataframe\">\n",
       "  <thead>\n",
       "    <tr style=\"text-align: right;\">\n",
       "      <th></th>\n",
       "      <th>USER</th>\n",
       "      <th>Date</th>\n",
       "      <th>FIRST LOGIN</th>\n",
       "      <th>IS LATE</th>\n",
       "    </tr>\n",
       "  </thead>\n",
       "  <tbody>\n",
       "    <tr>\n",
       "      <th>0</th>\n",
       "      <td>Esmaria</td>\n",
       "      <td>Aug. 25, 2024</td>\n",
       "      <td>5:12 am</td>\n",
       "      <td>No</td>\n",
       "    </tr>\n",
       "    <tr>\n",
       "      <th>1</th>\n",
       "      <td>Gizela</td>\n",
       "      <td>Aug. 25, 2024</td>\n",
       "      <td>5:08 am</td>\n",
       "      <td>No</td>\n",
       "    </tr>\n",
       "    <tr>\n",
       "      <th>2</th>\n",
       "      <td>Eleen</td>\n",
       "      <td>Aug. 25, 2024</td>\n",
       "      <td>5:20 am</td>\n",
       "      <td>No</td>\n",
       "    </tr>\n",
       "    <tr>\n",
       "      <th>3</th>\n",
       "      <td>Fredrika</td>\n",
       "      <td>Aug. 25, 2024</td>\n",
       "      <td>5:43 am</td>\n",
       "      <td>No</td>\n",
       "    </tr>\n",
       "    <tr>\n",
       "      <th>4</th>\n",
       "      <td>Geoffry</td>\n",
       "      <td>Aug. 25, 2024</td>\n",
       "      <td>5:35 am</td>\n",
       "      <td>No</td>\n",
       "    </tr>\n",
       "  </tbody>\n",
       "</table>\n",
       "</div>"
      ]
     },
     "execution_count": 158,
     "metadata": {},
     "output_type": "execute_result"
    }
   ],
   "execution_count": 158
  },
  {
   "metadata": {
    "ExecuteTime": {
     "end_time": "2024-08-28T10:45:00.821243Z",
     "start_time": "2024-08-28T10:45:00.812246Z"
    }
   },
   "cell_type": "code",
   "source": "df.rename(columns={'Date': 'DATE'}, inplace=True)",
   "id": "985e694a78721a6e",
   "outputs": [],
   "execution_count": 159
  },
  {
   "metadata": {
    "ExecuteTime": {
     "end_time": "2024-08-28T10:45:00.994385Z",
     "start_time": "2024-08-28T10:45:00.965364Z"
    }
   },
   "cell_type": "code",
   "source": "df",
   "id": "91a0a42451880ef1",
   "outputs": [
    {
     "data": {
      "text/plain": [
       "         USER           DATE FIRST LOGIN IS LATE\n",
       "0     Esmaria  Aug. 25, 2024     5:12 am      No\n",
       "1      Gizela  Aug. 25, 2024     5:08 am      No\n",
       "2       Eleen  Aug. 25, 2024     5:20 am      No\n",
       "3    Fredrika  Aug. 25, 2024     5:43 am      No\n",
       "4     Geoffry  Aug. 25, 2024     5:35 am      No\n",
       "..        ...            ...         ...     ...\n",
       "995   Raychel  Aug. 25, 2024    10:03 am     Yes\n",
       "996    Aldous  Aug. 26, 2024    10:50 am     Yes\n",
       "997       Bob  Aug. 26, 2024    10:04 am     Yes\n",
       "998     Dalli  Aug. 26, 2024     8:08 am     Yes\n",
       "999    Keelia  Aug. 25, 2024     8:27 am     Yes\n",
       "\n",
       "[1000 rows x 4 columns]"
      ],
      "text/html": [
       "<div>\n",
       "<style scoped>\n",
       "    .dataframe tbody tr th:only-of-type {\n",
       "        vertical-align: middle;\n",
       "    }\n",
       "\n",
       "    .dataframe tbody tr th {\n",
       "        vertical-align: top;\n",
       "    }\n",
       "\n",
       "    .dataframe thead th {\n",
       "        text-align: right;\n",
       "    }\n",
       "</style>\n",
       "<table border=\"1\" class=\"dataframe\">\n",
       "  <thead>\n",
       "    <tr style=\"text-align: right;\">\n",
       "      <th></th>\n",
       "      <th>USER</th>\n",
       "      <th>DATE</th>\n",
       "      <th>FIRST LOGIN</th>\n",
       "      <th>IS LATE</th>\n",
       "    </tr>\n",
       "  </thead>\n",
       "  <tbody>\n",
       "    <tr>\n",
       "      <th>0</th>\n",
       "      <td>Esmaria</td>\n",
       "      <td>Aug. 25, 2024</td>\n",
       "      <td>5:12 am</td>\n",
       "      <td>No</td>\n",
       "    </tr>\n",
       "    <tr>\n",
       "      <th>1</th>\n",
       "      <td>Gizela</td>\n",
       "      <td>Aug. 25, 2024</td>\n",
       "      <td>5:08 am</td>\n",
       "      <td>No</td>\n",
       "    </tr>\n",
       "    <tr>\n",
       "      <th>2</th>\n",
       "      <td>Eleen</td>\n",
       "      <td>Aug. 25, 2024</td>\n",
       "      <td>5:20 am</td>\n",
       "      <td>No</td>\n",
       "    </tr>\n",
       "    <tr>\n",
       "      <th>3</th>\n",
       "      <td>Fredrika</td>\n",
       "      <td>Aug. 25, 2024</td>\n",
       "      <td>5:43 am</td>\n",
       "      <td>No</td>\n",
       "    </tr>\n",
       "    <tr>\n",
       "      <th>4</th>\n",
       "      <td>Geoffry</td>\n",
       "      <td>Aug. 25, 2024</td>\n",
       "      <td>5:35 am</td>\n",
       "      <td>No</td>\n",
       "    </tr>\n",
       "    <tr>\n",
       "      <th>...</th>\n",
       "      <td>...</td>\n",
       "      <td>...</td>\n",
       "      <td>...</td>\n",
       "      <td>...</td>\n",
       "    </tr>\n",
       "    <tr>\n",
       "      <th>995</th>\n",
       "      <td>Raychel</td>\n",
       "      <td>Aug. 25, 2024</td>\n",
       "      <td>10:03 am</td>\n",
       "      <td>Yes</td>\n",
       "    </tr>\n",
       "    <tr>\n",
       "      <th>996</th>\n",
       "      <td>Aldous</td>\n",
       "      <td>Aug. 26, 2024</td>\n",
       "      <td>10:50 am</td>\n",
       "      <td>Yes</td>\n",
       "    </tr>\n",
       "    <tr>\n",
       "      <th>997</th>\n",
       "      <td>Bob</td>\n",
       "      <td>Aug. 26, 2024</td>\n",
       "      <td>10:04 am</td>\n",
       "      <td>Yes</td>\n",
       "    </tr>\n",
       "    <tr>\n",
       "      <th>998</th>\n",
       "      <td>Dalli</td>\n",
       "      <td>Aug. 26, 2024</td>\n",
       "      <td>8:08 am</td>\n",
       "      <td>Yes</td>\n",
       "    </tr>\n",
       "    <tr>\n",
       "      <th>999</th>\n",
       "      <td>Keelia</td>\n",
       "      <td>Aug. 25, 2024</td>\n",
       "      <td>8:27 am</td>\n",
       "      <td>Yes</td>\n",
       "    </tr>\n",
       "  </tbody>\n",
       "</table>\n",
       "<p>1000 rows × 4 columns</p>\n",
       "</div>"
      ]
     },
     "execution_count": 160,
     "metadata": {},
     "output_type": "execute_result"
    }
   ],
   "execution_count": 160
  },
  {
   "metadata": {
    "ExecuteTime": {
     "end_time": "2024-08-28T10:45:13.983699Z",
     "start_time": "2024-08-28T10:45:01.051581Z"
    }
   },
   "cell_type": "code",
   "source": [
    "categorical_cols = df.select_dtypes(include=['object']).columns\n",
    "\n",
    "# Define a color palette\n",
    "color_palette = sns.color_palette('husl', len(categorical_cols))\n",
    "\n",
    "# Plot bar chart for each categorical column with colors\n",
    "for index, col in enumerate(categorical_cols):\n",
    "    plt.figure(figsize=(6,4))\n",
    "    df[col].value_counts().plot(kind='bar', color=color_palette[index])\n",
    "    plt.title(f'Distribution of {col}')\n",
    "    plt.xlabel(col)\n",
    "    plt.ylabel('Count')"
   ],
   "id": "6c75ada6ac58f389",
   "outputs": [
    {
     "data": {
      "text/plain": [
       "<Figure size 600x400 with 1 Axes>"
      ],
      "image/png": "[encoded data removed]"
     },
     "metadata": {},
     "output_type": "display_data"
    },
    {
     "data": {
      "text/plain": [
       "<Figure size 600x400 with 1 Axes>"
      ],
      "image/png": "[encoded data removed]"
     },
     "metadata": {},
     "output_type": "display_data"
    },
    {
     "data": {
      "text/plain": [
       "<Figure size 600x400 with 1 Axes>"
      ],
      "image/png": "[encoded data removed]"
     },
     "metadata": {},
     "output_type": "display_data"
    },
    {
     "data": {
      "text/plain": [
       "<Figure size 600x400 with 1 Axes>"
      ],
      "image/png": "[encoded data removed]"
     },
     "metadata": {},
     "output_type": "display_data"
    }
   ],
   "execution_count": 161
  },
  {
   "metadata": {
    "ExecuteTime": {
     "end_time": "2024-08-28T10:45:13.999222Z",
     "start_time": "2024-08-28T10:45:13.987701Z"
    }
   },
   "cell_type": "code",
   "source": "label_encoder = LabelEncoder()",
   "id": "a719f08f8e213a28",
   "outputs": [],
   "execution_count": 162
  },
  {
   "metadata": {
    "ExecuteTime": {
     "end_time": "2024-08-28T10:45:14.030146Z",
     "start_time": "2024-08-28T10:45:14.001732Z"
    }
   },
   "cell_type": "code",
   "source": [
    "for column in df.select_dtypes(include=['object']).columns:\n",
    "    df[column] = label_encoder.fit_transform(df[column])"
   ],
   "id": "2bcf7a4ced2f171f",
   "outputs": [],
   "execution_count": 163
  },
  {
   "metadata": {
    "ExecuteTime": {
     "end_time": "2024-08-28T10:45:14.046184Z",
     "start_time": "2024-08-28T10:45:14.032666Z"
    }
   },
   "cell_type": "code",
   "source": [
    "# Save label encoders\n",
    "joblib.dump(label_encoder, 'label_encoders.pkl')"
   ],
   "id": "16c8e856227d11f4",
   "outputs": [
    {
     "data": {
      "text/plain": [
       "['label_encoders.pkl']"
      ]
     },
     "execution_count": 164,
     "metadata": {},
     "output_type": "execute_result"
    }
   ],
   "execution_count": 164
  },
  {
   "metadata": {
    "ExecuteTime": {
     "end_time": "2024-08-28T10:45:14.061727Z",
     "start_time": "2024-08-28T10:45:14.048183Z"
    }
   },
   "cell_type": "code",
   "source": "df",
   "id": "9054d6289f400fd",
   "outputs": [
    {
     "data": {
      "text/plain": [
       "     USER  DATE  FIRST LOGIN  IS LATE\n",
       "0     321     0           75        0\n",
       "1     414     0           71        0\n",
       "2     298     0           83        0\n",
       "3     372     0          105        0\n",
       "4     389     0           98        0\n",
       "..    ...   ...          ...      ...\n",
       "995   757     0            2        1\n",
       "996    15     1           46        1\n",
       "997   104     1            3        1\n",
       "998   227     1          238        1\n",
       "999   547     0          255        1\n",
       "\n",
       "[1000 rows x 4 columns]"
      ],
      "text/html": [
       "<div>\n",
       "<style scoped>\n",
       "    .dataframe tbody tr th:only-of-type {\n",
       "        vertical-align: middle;\n",
       "    }\n",
       "\n",
       "    .dataframe tbody tr th {\n",
       "        vertical-align: top;\n",
       "    }\n",
       "\n",
       "    .dataframe thead th {\n",
       "        text-align: right;\n",
       "    }\n",
       "</style>\n",
       "<table border=\"1\" class=\"dataframe\">\n",
       "  <thead>\n",
       "    <tr style=\"text-align: right;\">\n",
       "      <th></th>\n",
       "      <th>USER</th>\n",
       "      <th>DATE</th>\n",
       "      <th>FIRST LOGIN</th>\n",
       "      <th>IS LATE</th>\n",
       "    </tr>\n",
       "  </thead>\n",
       "  <tbody>\n",
       "    <tr>\n",
       "      <th>0</th>\n",
       "      <td>321</td>\n",
       "      <td>0</td>\n",
       "      <td>75</td>\n",
       "      <td>0</td>\n",
       "    </tr>\n",
       "    <tr>\n",
       "      <th>1</th>\n",
       "      <td>414</td>\n",
       "      <td>0</td>\n",
       "      <td>71</td>\n",
       "      <td>0</td>\n",
       "    </tr>\n",
       "    <tr>\n",
       "      <th>2</th>\n",
       "      <td>298</td>\n",
       "      <td>0</td>\n",
       "      <td>83</td>\n",
       "      <td>0</td>\n",
       "    </tr>\n",
       "    <tr>\n",
       "      <th>3</th>\n",
       "      <td>372</td>\n",
       "      <td>0</td>\n",
       "      <td>105</td>\n",
       "      <td>0</td>\n",
       "    </tr>\n",
       "    <tr>\n",
       "      <th>4</th>\n",
       "      <td>389</td>\n",
       "      <td>0</td>\n",
       "      <td>98</td>\n",
       "      <td>0</td>\n",
       "    </tr>\n",
       "    <tr>\n",
       "      <th>...</th>\n",
       "      <td>...</td>\n",
       "      <td>...</td>\n",
       "      <td>...</td>\n",
       "      <td>...</td>\n",
       "    </tr>\n",
       "    <tr>\n",
       "      <th>995</th>\n",
       "      <td>757</td>\n",
       "      <td>0</td>\n",
       "      <td>2</td>\n",
       "      <td>1</td>\n",
       "    </tr>\n",
       "    <tr>\n",
       "      <th>996</th>\n",
       "      <td>15</td>\n",
       "      <td>1</td>\n",
       "      <td>46</td>\n",
       "      <td>1</td>\n",
       "    </tr>\n",
       "    <tr>\n",
       "      <th>997</th>\n",
       "      <td>104</td>\n",
       "      <td>1</td>\n",
       "      <td>3</td>\n",
       "      <td>1</td>\n",
       "    </tr>\n",
       "    <tr>\n",
       "      <th>998</th>\n",
       "      <td>227</td>\n",
       "      <td>1</td>\n",
       "      <td>238</td>\n",
       "      <td>1</td>\n",
       "    </tr>\n",
       "    <tr>\n",
       "      <th>999</th>\n",
       "      <td>547</td>\n",
       "      <td>0</td>\n",
       "      <td>255</td>\n",
       "      <td>1</td>\n",
       "    </tr>\n",
       "  </tbody>\n",
       "</table>\n",
       "<p>1000 rows × 4 columns</p>\n",
       "</div>"
      ]
     },
     "execution_count": 165,
     "metadata": {},
     "output_type": "execute_result"
    }
   ],
   "execution_count": 165
  },
  {
   "metadata": {
    "ExecuteTime": {
     "end_time": "2024-08-28T10:45:14.077768Z",
     "start_time": "2024-08-28T10:45:14.064254Z"
    }
   },
   "cell_type": "code",
   "source": [
    "# Splitting the data into features and target\n",
    "X = df.drop(columns=['IS LATE'])\n",
    "y = df['IS LATE']"
   ],
   "id": "819964e9c5ce5834",
   "outputs": [],
   "execution_count": 166
  },
  {
   "metadata": {
    "ExecuteTime": {
     "end_time": "2024-08-28T10:45:14.108954Z",
     "start_time": "2024-08-28T10:45:14.079769Z"
    }
   },
   "cell_type": "code",
   "source": [
    "# Splitting the data into training and testing sets\n",
    "X_train, X_test, y_train, y_test = train_test_split(X, y, test_size=0.2, random_state=42)"
   ],
   "id": "a97df2fe00b5c9cd",
   "outputs": [],
   "execution_count": 167
  },
  {
   "metadata": {
    "ExecuteTime": {
     "end_time": "2024-08-28T10:45:14.202749Z",
     "start_time": "2024-08-28T10:45:14.114052Z"
    }
   },
   "cell_type": "code",
   "source": [
    "# Decision Tree Regression\n",
    "\n",
    "# Initialize Decision Tree Classifier with max depth of 2000\n",
    "dtree = DecisionTreeClassifier(max_depth=2000)\n",
    "# Fit the model on the training data\n",
    "\n",
    "dtree.fit(X_train, y_train)\n",
    "\n",
    "# Predict the target values on the test data\n",
    "y_pred = dtree.predict(X_test)\n",
    "\n",
    "# Evaluate the Decision Tree Regression model using various metrics\n",
    "print(f\"\"\"\n",
    "Accuracy Score = {accuracy_score(y_pred,y_test)},\n",
    "Precision Score = {precision_score(y_pred,y_test)},\n",
    "Root Precision Score = {np.sqrt(precision_score(y_pred,y_test))},\n",
    "F1 Score = {f1_score(y_pred,y_test)}\n",
    "\"\"\")"
   ],
   "id": "d6a05ff6013fd247",
   "outputs": [
    {
     "name": "stdout",
     "output_type": "stream",
     "text": [
      "\n",
      "Accuracy Score = 1.0,\n",
      "Precision Score = 1.0,\n",
      "Root Precision Score = 1.0,\n",
      "F1 Score = 1.0\n",
      "\n"
     ]
    }
   ],
   "execution_count": 168
  },
  {
   "metadata": {
    "ExecuteTime": {
     "end_time": "2024-08-28T10:45:14.405940Z",
     "start_time": "2024-08-28T10:45:14.206759Z"
    }
   },
   "cell_type": "code",
   "source": [
    "# Initialize and fit XGBoost Classifier with specified parameters\n",
    "\n",
    "xgb_model = xgb.XGBClassifier(objective='reg:squarederror', n_estimators=100, max_depth=6, learning_rate=0.1)\n",
    "\n",
    "# Fit the model\n",
    "xgb_model.fit(X_train, y_train)\n",
    "\n",
    "# Predict the target values on the test data using XGBoost\n",
    "y_pred_xgb = xgb_model.predict(X_test)\n",
    "\n",
    "# Evaluate the XGBoost model using various metrics\n",
    "print(f\"XGBoost Accuracy Score: {accuracy_score(y_test, y_pred_xgb)}\")\n",
    "print(f\"XGBoost Precision Score: {precision_score(y_test, y_pred_xgb)}\")\n",
    "print(f\"XGBoost F1 Score: {f1_score(y_test, y_pred_xgb)}\")"
   ],
   "id": "1f1907660873e4a",
   "outputs": [
    {
     "name": "stdout",
     "output_type": "stream",
     "text": [
      "XGBoost Accuracy Score: 1.0\n",
      "XGBoost Precision Score: 1.0\n",
      "XGBoost F1 Score: 1.0\n"
     ]
    }
   ],
   "execution_count": 169
  },
  {
   "metadata": {
    "ExecuteTime": {
     "end_time": "2024-08-28T10:45:14.846045Z",
     "start_time": "2024-08-28T10:45:14.411941Z"
    }
   },
   "cell_type": "code",
   "source": [
    "# Initialize and fit AdaBoost Classifier with specified parameters\n",
    "\n",
    "ada_model = AdaBoostClassifier(n_estimators=100, learning_rate=0.1)\n",
    "\n",
    "\n",
    "ada_model.fit(X_train, y_train)\n",
    "\n",
    "# Predict the target values on the test data using AdaBoost\n",
    "y_pred_ada = ada_model.predict(X_test)\n",
    "\n",
    "# Evaluate the AdaBoost model using various metrics\n",
    "print(f\"AdaBoost Accuracy Score: {accuracy_score(y_test, y_pred_ada)}\")\n",
    "print(f\"AdaBoost Precision Score: {precision_score(y_test, y_pred_ada)}\")\n",
    "print(f\"AdaBoost F1 Score: {f1_score(y_test, y_pred_ada)}\")"
   ],
   "id": "e60977a0382242bb",
   "outputs": [
    {
     "name": "stderr",
     "output_type": "stream",
     "text": [
      "C:\\Users\\mcnob\\AppData\\Local\\Packages\\PythonSoftwareFoundation.Python.3.10_qbz5n2kfra8p0\\LocalCache\\local-packages\\Python310\\site-packages\\sklearn\\ensemble\\_weight_boosting.py:527: FutureWarning: The SAMME.R algorithm (the default) is deprecated and will be removed in 1.6. Use the SAMME algorithm to circumvent this warning.\n",
      "  warnings.warn(\n"
     ]
    },
    {
     "name": "stdout",
     "output_type": "stream",
     "text": [
      "AdaBoost Accuracy Score: 1.0\n",
      "AdaBoost Precision Score: 1.0\n",
      "AdaBoost F1 Score: 1.0\n"
     ]
    }
   ],
   "execution_count": 170
  },
  {
   "metadata": {
    "ExecuteTime": {
     "end_time": "2024-08-28T10:45:14.971863Z",
     "start_time": "2024-08-28T10:45:14.850045Z"
    }
   },
   "cell_type": "code",
   "source": [
    "# Stacking Classifier\n",
    "\n",
    "# Define base models for stacking\n",
    "estimators = [\n",
    "    ('dt', dtree)\n",
    "]\n",
    "\n",
    "# Initialize Stacking Classifier with Decision Tree as final estimator\n",
    "stacking_model = StackingClassifier(estimators=estimators, final_estimator=DecisionTreeClassifier\n",
    "(max_depth=10000))\n",
    "\n",
    "# Fit the stacking model on the training data\n",
    "stacking_model.fit(X_train, y_train)\n",
    "\n",
    "# Predict the target values on the test data using the stacking model\n",
    "y_pred = stacking_model.predict(X_test)\n",
    "\n",
    "# Evaluate the Stacking Classifier model using various metrics\n",
    "print(f\"\"\"\n",
    "Accuracy Score = {accuracy_score(y_pred,y_test)},\n",
    "Precision Score = {precision_score(y_pred,y_test)},\n",
    "F1 Score = {f1_score(y_pred,y_test)}\n",
    "\"\"\")"
   ],
   "id": "b9e1e404b60006ba",
   "outputs": [
    {
     "name": "stdout",
     "output_type": "stream",
     "text": [
      "\n",
      "Accuracy Score = 1.0,\n",
      "Precision Score = 1.0,\n",
      "F1 Score = 1.0\n",
      "\n"
     ]
    }
   ],
   "execution_count": 171
  },
  {
   "metadata": {
    "ExecuteTime": {
     "end_time": "2024-08-28T10:45:15.174634Z",
     "start_time": "2024-08-28T10:45:14.975394Z"
    }
   },
   "cell_type": "code",
   "source": [
    "# Cross-validation scores for the stacking model\n",
    "\n",
    "cv_scores = cross_val_score(stacking_model, X_train, y_train, cv=5, scoring='accuracy')\n",
    "mean_cv_score = np.mean(cv_scores)\n",
    "std_cv_score = np.std(cv_scores)\n",
    "\n",
    "\n",
    "# Print the mean and standard deviation of cross-validation scores\n",
    "print(f\"Mean CV Score (Negative MSE): {mean_cv_score}\")\n",
    "print(f\"Standard Deviation of CV Scores: {std_cv_score}\")"
   ],
   "id": "1bd723a9afb034ce",
   "outputs": [
    {
     "name": "stdout",
     "output_type": "stream",
     "text": [
      "Mean CV Score (Negative MSE): 0.99875\n",
      "Standard Deviation of CV Scores: 0.002499999999999991\n"
     ]
    }
   ],
   "execution_count": 172
  },
  {
   "metadata": {
    "ExecuteTime": {
     "end_time": "2024-08-28T10:45:27.248590Z",
     "start_time": "2024-08-28T10:45:15.176636Z"
    }
   },
   "cell_type": "code",
   "source": [
    "# Grid search for hyperparameter tuning of the final estimator in the stacking model\n",
    "\n",
    "param_grid = {\n",
    "    'final_estimator__max_depth': [5, 10, 15, 20],\n",
    "    'final_estimator__min_samples_split': [2, 5, 10]\n",
    "}\n",
    "\n",
    "\n",
    "grid_search = GridSearchCV(stacking_model, param_grid, cv=5, scoring='accuracy', n_jobs=-1)\n",
    "\n",
    "# Fit the grid search on the training data\n",
    "grid_search.fit(X_train, y_train)\n",
    "\n",
    "# Best estimator from the grid search\n",
    "test_model_1 = grid_search.best_estimator_\n",
    "\n",
    "# Predict the target values on the test data using the best estimator\n",
    "y_pred_best = test_model_1.predict(X_test)\n",
    "\n",
    "# Evaluate the best estimator model using various metrics\n",
    "print(f\"Test Model 1 Accuracy Score: {accuracy_score(y_test, y_pred_best)}\")\n",
    "print(f\"Test Model 1 Precision Score: {precision_score(y_test, y_pred_best)}\")\n",
    "print(f\"Test Model 1 F1 Score: {f1_score(y_test, y_pred_best)}\")"
   ],
   "id": "b3b4d8947b7e95fb",
   "outputs": [
    {
     "name": "stdout",
     "output_type": "stream",
     "text": [
      "Test Model 1 Accuracy Score: 1.0\n",
      "Test Model 1 Precision Score: 1.0\n",
      "Test Model 1 F1 Score: 1.0\n"
     ]
    }
   ],
   "execution_count": 173
  },
  {
   "metadata": {
    "ExecuteTime": {
     "end_time": "2024-08-28T10:45:27.801204Z",
     "start_time": "2024-08-28T10:45:27.255726Z"
    }
   },
   "cell_type": "code",
   "source": [
    "# Refined grid search for hyperparameter tuning of the best estimator\n",
    "\n",
    "refined_param_grid = {\n",
    "    'final_estimator__max_depth': [12, 15, 18],\n",
    "    'final_estimator__min_samples_split': [5, 7, 10]\n",
    "}\n",
    "\n",
    "refined_grid_search = GridSearchCV(test_model_1, refined_param_grid, cv=5, scoring='accuracy', n_jobs=-1)\n",
    "\n",
    "# Fit the refined grid search on the training data\n",
    "refined_grid_search.fit(X_train, y_train)\n",
    "\n",
    "# Best estimator from the refined grid search\n",
    "test_model_2 = refined_grid_search.best_estimator_\n",
    "\n",
    "# Fit the model on the training data\n",
    "test_model_2.fit(X_train, y_train)\n",
    "\n",
    "# Predict the target values on the test data using the model\n",
    "y_pred_final = test_model_2.predict(X_test)\n",
    "\n",
    "# Evaluate the model using various metrics\n",
    "print(f\"Test Model 2 Accuracy Score: {accuracy_score(y_test, y_pred_final)}\")\n",
    "print(f\"Test Model 2 Precision Score: {precision_score(y_test, y_pred_final)}\")\n",
    "print(f\"Test Model 2 F1 Score: {f1_score(y_test, y_pred_final)}\")"
   ],
   "id": "fda65822cb4b0e59",
   "outputs": [
    {
     "name": "stdout",
     "output_type": "stream",
     "text": [
      "Test Model 2 Accuracy Score: 1.0\n",
      "Test Model 2 Precision Score: 1.0\n",
      "Test Model 2 F1 Score: 1.0\n"
     ]
    }
   ],
   "execution_count": 174
  },
  {
   "metadata": {
    "ExecuteTime": {
     "end_time": "2024-08-28T10:45:28.131476Z",
     "start_time": "2024-08-28T10:45:27.803697Z"
    }
   },
   "cell_type": "code",
   "source": [
    "# Define refined parameter grid for hyperparameter tuning of the final estimator in the stacking model\n",
    "\n",
    "refined_param_grid = {\n",
    "    'final_estimator__max_depth': [10, 15],\n",
    "    'final_estimator__min_samples_split': [5, 10]\n",
    "}\n",
    "\n",
    "# Perform grid search with cross-validation to find the best hyperparameters for the final estimator\n",
    "refined_grid_search = GridSearchCV(test_model_2, refined_param_grid, cv=5, scoring='accuracy', n_jobs=-1)\n",
    "\n",
    "# Fit the grid search on the training data\n",
    "refined_grid_search.fit(X_train, y_train)\n",
    "\n",
    "# Get the best estimator from the grid search\n",
    "test_model_3 = refined_grid_search.best_estimator_\n",
    "\n",
    "# Fit the best estimator on the training data\n",
    "test_model_3.fit(X_train, y_train)\n",
    "\n",
    "# Predict the target values on the test data using the best estimator\n",
    "y_pred_final = test_model_3.predict(X_test)\n",
    "\n",
    "# Evaluate the best estimator model using various metrics\n",
    "print(f\"Test Model 3 Accuracy Score: {accuracy_score(y_test, y_pred_final)}\")\n",
    "print(f\"Test Model 3 Precision Score: {precision_score(y_test, y_pred_final)}\")\n",
    "print(f\"Test Model 3 F1 Score: {f1_score(y_test, y_pred_final)}\")"
   ],
   "id": "b47c41fea831d14",
   "outputs": [
    {
     "name": "stdout",
     "output_type": "stream",
     "text": [
      "Test Model 3 Accuracy Score: 1.0\n",
      "Test Model 3 Precision Score: 1.0\n",
      "Test Model 3 F1 Score: 1.0\n"
     ]
    }
   ],
   "execution_count": 175
  },
  {
   "metadata": {
    "ExecuteTime": {
     "end_time": "2024-08-28T10:45:28.683108Z",
     "start_time": "2024-08-28T10:45:28.134465Z"
    }
   },
   "cell_type": "code",
   "source": [
    "# Define base models for ensemble\n",
    "models = [\n",
    "    ('xgb', xgb_model),\n",
    "    ('dt', DecisionTreeClassifier()),\n",
    "    ('tmodel1', test_model_1),\n",
    "    ('tmodel3', test_model_3),\n",
    "    ('adaboost',ada_model)\n",
    "]\n",
    "\n",
    "# Initialize and fit Voting Classifier as ensemble model with base models\n",
    "ensemble_model = VotingClassifier(estimators=models)\n",
    "\n",
    "# Fit\n",
    "ensemble_model.fit(X_train, y_train)\n",
    "\n",
    "# Predict the target values on the test data using the ensemble model\n",
    "y_pred_ensemble = ensemble_model.predict(X_test)\n",
    "\n",
    "# Evaluate the ensemble model using various metrics\n",
    "print(f\"Ensemble Model Accuracy Score: {accuracy_score(y_test, y_pred_ensemble)}\")\n",
    "print(f\"Ensemble Model Precision Score: {precision_score(y_test, y_pred_ensemble)}\")\n",
    "print(f\"Ensemble Model F1 Score: {f1_score(y_test, y_pred_ensemble)}\")"
   ],
   "id": "2234cc6e7f5aac64",
   "outputs": [
    {
     "name": "stderr",
     "output_type": "stream",
     "text": [
      "C:\\Users\\mcnob\\AppData\\Local\\Packages\\PythonSoftwareFoundation.Python.3.10_qbz5n2kfra8p0\\LocalCache\\local-packages\\Python310\\site-packages\\sklearn\\ensemble\\_weight_boosting.py:527: FutureWarning: The SAMME.R algorithm (the default) is deprecated and will be removed in 1.6. Use the SAMME algorithm to circumvent this warning.\n",
      "  warnings.warn(\n"
     ]
    },
    {
     "name": "stdout",
     "output_type": "stream",
     "text": [
      "Ensemble Model Accuracy Score: 1.0\n",
      "Ensemble Model Precision Score: 1.0\n",
      "Ensemble Model F1 Score: 1.0\n"
     ]
    }
   ],
   "execution_count": 176
  },
  {
   "metadata": {
    "ExecuteTime": {
     "end_time": "2024-08-28T10:45:39.989266Z",
     "start_time": "2024-08-28T10:45:28.686122Z"
    }
   },
   "cell_type": "code",
   "source": [
    "# Define parameter grid for Decision Tree Classifier\n",
    "\n",
    "param_grid_dt = {\n",
    "    'max_depth': [3, 5, 7, 10],\n",
    "    'min_samples_split': [2, 5, 10],\n",
    "    'min_samples_leaf': [1, 2, 4]\n",
    "}\n",
    "\n",
    "# Perform grid search with cross-validation to find the best hyperparameters for Decision Tree Classifier\n",
    "grid_search_dt = GridSearchCV(estimator=DecisionTreeClassifier(), param_grid=param_grid_dt, cv=5)\n",
    "grid_search_dt.fit(X_train, y_train)\n",
    "\n",
    "# Get the best estimator from the grid search for Decision Tree Classifier\n",
    "best_dt = grid_search_dt.best_estimator_\n",
    "\n",
    "# Define parameter grid for AdaBoost Classifier\n",
    "param_grid_ada = {\n",
    "    'n_estimators': [50, 100, 200],\n",
    "    'learning_rate': [0.01, 0.1, 1]\n",
    "}\n",
    "\n",
    "# Perform grid search with cross-validation to find the best hyperparameters for AdaBoost Classifier\n",
    "grid_search_ada = GridSearchCV(estimator=AdaBoostClassifier(), param_grid=param_grid_ada, cv=5)\n",
    "grid_search_ada.fit(X_train, y_train)\n",
    "\n",
    "# Get the best estimator from the grid search for AdaBoost Classifier\n",
    "best_ada = grid_search_ada.best_estimator_\n",
    "\n",
    "# Update the models list with the best estimators\n",
    "models = [\n",
    "    ('xgb', xgb_model),\n",
    "    ('dt', best_dt),\n",
    "    ('tmodel1', test_model_1),\n",
    "    ('tmodel3', test_model_3),\n",
    "    ('adaboost', best_ada)\n",
    "]\n",
    "\n",
    "# Ensemble model with weights\n",
    "weights = [1, 1, 1, 1, 1]\n",
    "ensemble_model = VotingClassifier(estimators=models, weights=weights)\n",
    "\n",
    "# Fit the ensemble model on the training data and predict on the test data\n",
    "ensemble_model.fit(X_train, y_train)\n",
    "y_pred_ensemble = ensemble_model.predict(X_test)\n",
    "\n",
    "# Evaluate the ensemble model using various metrics\n",
    "print(f\"Ensemble Model Accuracy Score: {accuracy_score(y_test, y_pred_ensemble)}\")\n",
    "print(f\"Ensemble Model Precision Score: {precision_score(y_test, y_pred_ensemble)}\")\n",
    "print(f\"Ensemble Model F1 Score: {f1_score(y_test, y_pred_ensemble)}\")"
   ],
   "id": "1fae8626ca08bdec",
   "outputs": [
    {
     "name": "stderr",
     "output_type": "stream",
     "text": [
      "C:\\Users\\mcnob\\AppData\\Local\\Packages\\PythonSoftwareFoundation.Python.3.10_qbz5n2kfra8p0\\LocalCache\\local-packages\\Python310\\site-packages\\sklearn\\ensemble\\_weight_boosting.py:527: FutureWarning: The SAMME.R algorithm (the default) is deprecated and will be removed in 1.6. Use the SAMME algorithm to circumvent this warning.\n",
      "  warnings.warn(\n",
      "C:\\Users\\mcnob\\AppData\\Local\\Packages\\PythonSoftwareFoundation.Python.3.10_qbz5n2kfra8p0\\LocalCache\\local-packages\\Python310\\site-packages\\sklearn\\ensemble\\_weight_boosting.py:527: FutureWarning: The SAMME.R algorithm (the default) is deprecated and will be removed in 1.6. Use the SAMME algorithm to circumvent this warning.\n",
      "  warnings.warn(\n",
      "C:\\Users\\mcnob\\AppData\\Local\\Packages\\PythonSoftwareFoundation.Python.3.10_qbz5n2kfra8p0\\LocalCache\\local-packages\\Python310\\site-packages\\sklearn\\ensemble\\_weight_boosting.py:527: FutureWarning: The SAMME.R algorithm (the default) is deprecated and will be removed in 1.6. Use the SAMME algorithm to circumvent this warning.\n",
      "  warnings.warn(\n",
      "C:\\Users\\mcnob\\AppData\\Local\\Packages\\PythonSoftwareFoundation.Python.3.10_qbz5n2kfra8p0\\LocalCache\\local-packages\\Python310\\site-packages\\sklearn\\ensemble\\_weight_boosting.py:527: FutureWarning: The SAMME.R algorithm (the default) is deprecated and will be removed in 1.6. Use the SAMME algorithm to circumvent this warning.\n",
      "  warnings.warn(\n",
      "C:\\Users\\mcnob\\AppData\\Local\\Packages\\PythonSoftwareFoundation.Python.3.10_qbz5n2kfra8p0\\LocalCache\\local-packages\\Python310\\site-packages\\sklearn\\ensemble\\_weight_boosting.py:527: FutureWarning: The SAMME.R algorithm (the default) is deprecated and will be removed in 1.6. Use the SAMME algorithm to circumvent this warning.\n",
      "  warnings.warn(\n",
      "C:\\Users\\mcnob\\AppData\\Local\\Packages\\PythonSoftwareFoundation.Python.3.10_qbz5n2kfra8p0\\LocalCache\\local-packages\\Python310\\site-packages\\sklearn\\ensemble\\_weight_boosting.py:527: FutureWarning: The SAMME.R algorithm (the default) is deprecated and will be removed in 1.6. Use the SAMME algorithm to circumvent this warning.\n",
      "  warnings.warn(\n",
      "C:\\Users\\mcnob\\AppData\\Local\\Packages\\PythonSoftwareFoundation.Python.3.10_qbz5n2kfra8p0\\LocalCache\\local-packages\\Python310\\site-packages\\sklearn\\ensemble\\_weight_boosting.py:527: FutureWarning: The SAMME.R algorithm (the default) is deprecated and will be removed in 1.6. Use the SAMME algorithm to circumvent this warning.\n",
      "  warnings.warn(\n",
      "C:\\Users\\mcnob\\AppData\\Local\\Packages\\PythonSoftwareFoundation.Python.3.10_qbz5n2kfra8p0\\LocalCache\\local-packages\\Python310\\site-packages\\sklearn\\ensemble\\_weight_boosting.py:527: FutureWarning: The SAMME.R algorithm (the default) is deprecated and will be removed in 1.6. Use the SAMME algorithm to circumvent this warning.\n",
      "  warnings.warn(\n",
      "C:\\Users\\mcnob\\AppData\\Local\\Packages\\PythonSoftwareFoundation.Python.3.10_qbz5n2kfra8p0\\LocalCache\\local-packages\\Python310\\site-packages\\sklearn\\ensemble\\_weight_boosting.py:527: FutureWarning: The SAMME.R algorithm (the default) is deprecated and will be removed in 1.6. Use the SAMME algorithm to circumvent this warning.\n",
      "  warnings.warn(\n",
      "C:\\Users\\mcnob\\AppData\\Local\\Packages\\PythonSoftwareFoundation.Python.3.10_qbz5n2kfra8p0\\LocalCache\\local-packages\\Python310\\site-packages\\sklearn\\ensemble\\_weight_boosting.py:527: FutureWarning: The SAMME.R algorithm (the default) is deprecated and will be removed in 1.6. Use the SAMME algorithm to circumvent this warning.\n",
      "  warnings.warn(\n",
      "C:\\Users\\mcnob\\AppData\\Local\\Packages\\PythonSoftwareFoundation.Python.3.10_qbz5n2kfra8p0\\LocalCache\\local-packages\\Python310\\site-packages\\sklearn\\ensemble\\_weight_boosting.py:527: FutureWarning: The SAMME.R algorithm (the default) is deprecated and will be removed in 1.6. Use the SAMME algorithm to circumvent this warning.\n",
      "  warnings.warn(\n",
      "C:\\Users\\mcnob\\AppData\\Local\\Packages\\PythonSoftwareFoundation.Python.3.10_qbz5n2kfra8p0\\LocalCache\\local-packages\\Python310\\site-packages\\sklearn\\ensemble\\_weight_boosting.py:527: FutureWarning: The SAMME.R algorithm (the default) is deprecated and will be removed in 1.6. Use the SAMME algorithm to circumvent this warning.\n",
      "  warnings.warn(\n",
      "C:\\Users\\mcnob\\AppData\\Local\\Packages\\PythonSoftwareFoundation.Python.3.10_qbz5n2kfra8p0\\LocalCache\\local-packages\\Python310\\site-packages\\sklearn\\ensemble\\_weight_boosting.py:527: FutureWarning: The SAMME.R algorithm (the default) is deprecated and will be removed in 1.6. Use the SAMME algorithm to circumvent this warning.\n",
      "  warnings.warn(\n",
      "C:\\Users\\mcnob\\AppData\\Local\\Packages\\PythonSoftwareFoundation.Python.3.10_qbz5n2kfra8p0\\LocalCache\\local-packages\\Python310\\site-packages\\sklearn\\ensemble\\_weight_boosting.py:527: FutureWarning: The SAMME.R algorithm (the default) is deprecated and will be removed in 1.6. Use the SAMME algorithm to circumvent this warning.\n",
      "  warnings.warn(\n",
      "C:\\Users\\mcnob\\AppData\\Local\\Packages\\PythonSoftwareFoundation.Python.3.10_qbz5n2kfra8p0\\LocalCache\\local-packages\\Python310\\site-packages\\sklearn\\ensemble\\_weight_boosting.py:527: FutureWarning: The SAMME.R algorithm (the default) is deprecated and will be removed in 1.6. Use the SAMME algorithm to circumvent this warning.\n",
      "  warnings.warn(\n",
      "C:\\Users\\mcnob\\AppData\\Local\\Packages\\PythonSoftwareFoundation.Python.3.10_qbz5n2kfra8p0\\LocalCache\\local-packages\\Python310\\site-packages\\sklearn\\ensemble\\_weight_boosting.py:527: FutureWarning: The SAMME.R algorithm (the default) is deprecated and will be removed in 1.6. Use the SAMME algorithm to circumvent this warning.\n",
      "  warnings.warn(\n",
      "C:\\Users\\mcnob\\AppData\\Local\\Packages\\PythonSoftwareFoundation.Python.3.10_qbz5n2kfra8p0\\LocalCache\\local-packages\\Python310\\site-packages\\sklearn\\ensemble\\_weight_boosting.py:527: FutureWarning: The SAMME.R algorithm (the default) is deprecated and will be removed in 1.6. Use the SAMME algorithm to circumvent this warning.\n",
      "  warnings.warn(\n",
      "C:\\Users\\mcnob\\AppData\\Local\\Packages\\PythonSoftwareFoundation.Python.3.10_qbz5n2kfra8p0\\LocalCache\\local-packages\\Python310\\site-packages\\sklearn\\ensemble\\_weight_boosting.py:527: FutureWarning: The SAMME.R algorithm (the default) is deprecated and will be removed in 1.6. Use the SAMME algorithm to circumvent this warning.\n",
      "  warnings.warn(\n",
      "C:\\Users\\mcnob\\AppData\\Local\\Packages\\PythonSoftwareFoundation.Python.3.10_qbz5n2kfra8p0\\LocalCache\\local-packages\\Python310\\site-packages\\sklearn\\ensemble\\_weight_boosting.py:527: FutureWarning: The SAMME.R algorithm (the default) is deprecated and will be removed in 1.6. Use the SAMME algorithm to circumvent this warning.\n",
      "  warnings.warn(\n",
      "C:\\Users\\mcnob\\AppData\\Local\\Packages\\PythonSoftwareFoundation.Python.3.10_qbz5n2kfra8p0\\LocalCache\\local-packages\\Python310\\site-packages\\sklearn\\ensemble\\_weight_boosting.py:527: FutureWarning: The SAMME.R algorithm (the default) is deprecated and will be removed in 1.6. Use the SAMME algorithm to circumvent this warning.\n",
      "  warnings.warn(\n",
      "C:\\Users\\mcnob\\AppData\\Local\\Packages\\PythonSoftwareFoundation.Python.3.10_qbz5n2kfra8p0\\LocalCache\\local-packages\\Python310\\site-packages\\sklearn\\ensemble\\_weight_boosting.py:527: FutureWarning: The SAMME.R algorithm (the default) is deprecated and will be removed in 1.6. Use the SAMME algorithm to circumvent this warning.\n",
      "  warnings.warn(\n",
      "C:\\Users\\mcnob\\AppData\\Local\\Packages\\PythonSoftwareFoundation.Python.3.10_qbz5n2kfra8p0\\LocalCache\\local-packages\\Python310\\site-packages\\sklearn\\ensemble\\_weight_boosting.py:527: FutureWarning: The SAMME.R algorithm (the default) is deprecated and will be removed in 1.6. Use the SAMME algorithm to circumvent this warning.\n",
      "  warnings.warn(\n",
      "C:\\Users\\mcnob\\AppData\\Local\\Packages\\PythonSoftwareFoundation.Python.3.10_qbz5n2kfra8p0\\LocalCache\\local-packages\\Python310\\site-packages\\sklearn\\ensemble\\_weight_boosting.py:527: FutureWarning: The SAMME.R algorithm (the default) is deprecated and will be removed in 1.6. Use the SAMME algorithm to circumvent this warning.\n",
      "  warnings.warn(\n",
      "C:\\Users\\mcnob\\AppData\\Local\\Packages\\PythonSoftwareFoundation.Python.3.10_qbz5n2kfra8p0\\LocalCache\\local-packages\\Python310\\site-packages\\sklearn\\ensemble\\_weight_boosting.py:527: FutureWarning: The SAMME.R algorithm (the default) is deprecated and will be removed in 1.6. Use the SAMME algorithm to circumvent this warning.\n",
      "  warnings.warn(\n",
      "C:\\Users\\mcnob\\AppData\\Local\\Packages\\PythonSoftwareFoundation.Python.3.10_qbz5n2kfra8p0\\LocalCache\\local-packages\\Python310\\site-packages\\sklearn\\ensemble\\_weight_boosting.py:527: FutureWarning: The SAMME.R algorithm (the default) is deprecated and will be removed in 1.6. Use the SAMME algorithm to circumvent this warning.\n",
      "  warnings.warn(\n",
      "C:\\Users\\mcnob\\AppData\\Local\\Packages\\PythonSoftwareFoundation.Python.3.10_qbz5n2kfra8p0\\LocalCache\\local-packages\\Python310\\site-packages\\sklearn\\ensemble\\_weight_boosting.py:527: FutureWarning: The SAMME.R algorithm (the default) is deprecated and will be removed in 1.6. Use the SAMME algorithm to circumvent this warning.\n",
      "  warnings.warn(\n",
      "C:\\Users\\mcnob\\AppData\\Local\\Packages\\PythonSoftwareFoundation.Python.3.10_qbz5n2kfra8p0\\LocalCache\\local-packages\\Python310\\site-packages\\sklearn\\ensemble\\_weight_boosting.py:527: FutureWarning: The SAMME.R algorithm (the default) is deprecated and will be removed in 1.6. Use the SAMME algorithm to circumvent this warning.\n",
      "  warnings.warn(\n",
      "C:\\Users\\mcnob\\AppData\\Local\\Packages\\PythonSoftwareFoundation.Python.3.10_qbz5n2kfra8p0\\LocalCache\\local-packages\\Python310\\site-packages\\sklearn\\ensemble\\_weight_boosting.py:527: FutureWarning: The SAMME.R algorithm (the default) is deprecated and will be removed in 1.6. Use the SAMME algorithm to circumvent this warning.\n",
      "  warnings.warn(\n",
      "C:\\Users\\mcnob\\AppData\\Local\\Packages\\PythonSoftwareFoundation.Python.3.10_qbz5n2kfra8p0\\LocalCache\\local-packages\\Python310\\site-packages\\sklearn\\ensemble\\_weight_boosting.py:527: FutureWarning: The SAMME.R algorithm (the default) is deprecated and will be removed in 1.6. Use the SAMME algorithm to circumvent this warning.\n",
      "  warnings.warn(\n",
      "C:\\Users\\mcnob\\AppData\\Local\\Packages\\PythonSoftwareFoundation.Python.3.10_qbz5n2kfra8p0\\LocalCache\\local-packages\\Python310\\site-packages\\sklearn\\ensemble\\_weight_boosting.py:527: FutureWarning: The SAMME.R algorithm (the default) is deprecated and will be removed in 1.6. Use the SAMME algorithm to circumvent this warning.\n",
      "  warnings.warn(\n",
      "C:\\Users\\mcnob\\AppData\\Local\\Packages\\PythonSoftwareFoundation.Python.3.10_qbz5n2kfra8p0\\LocalCache\\local-packages\\Python310\\site-packages\\sklearn\\ensemble\\_weight_boosting.py:527: FutureWarning: The SAMME.R algorithm (the default) is deprecated and will be removed in 1.6. Use the SAMME algorithm to circumvent this warning.\n",
      "  warnings.warn(\n",
      "C:\\Users\\mcnob\\AppData\\Local\\Packages\\PythonSoftwareFoundation.Python.3.10_qbz5n2kfra8p0\\LocalCache\\local-packages\\Python310\\site-packages\\sklearn\\ensemble\\_weight_boosting.py:527: FutureWarning: The SAMME.R algorithm (the default) is deprecated and will be removed in 1.6. Use the SAMME algorithm to circumvent this warning.\n",
      "  warnings.warn(\n",
      "C:\\Users\\mcnob\\AppData\\Local\\Packages\\PythonSoftwareFoundation.Python.3.10_qbz5n2kfra8p0\\LocalCache\\local-packages\\Python310\\site-packages\\sklearn\\ensemble\\_weight_boosting.py:527: FutureWarning: The SAMME.R algorithm (the default) is deprecated and will be removed in 1.6. Use the SAMME algorithm to circumvent this warning.\n",
      "  warnings.warn(\n",
      "C:\\Users\\mcnob\\AppData\\Local\\Packages\\PythonSoftwareFoundation.Python.3.10_qbz5n2kfra8p0\\LocalCache\\local-packages\\Python310\\site-packages\\sklearn\\ensemble\\_weight_boosting.py:527: FutureWarning: The SAMME.R algorithm (the default) is deprecated and will be removed in 1.6. Use the SAMME algorithm to circumvent this warning.\n",
      "  warnings.warn(\n",
      "C:\\Users\\mcnob\\AppData\\Local\\Packages\\PythonSoftwareFoundation.Python.3.10_qbz5n2kfra8p0\\LocalCache\\local-packages\\Python310\\site-packages\\sklearn\\ensemble\\_weight_boosting.py:527: FutureWarning: The SAMME.R algorithm (the default) is deprecated and will be removed in 1.6. Use the SAMME algorithm to circumvent this warning.\n",
      "  warnings.warn(\n",
      "C:\\Users\\mcnob\\AppData\\Local\\Packages\\PythonSoftwareFoundation.Python.3.10_qbz5n2kfra8p0\\LocalCache\\local-packages\\Python310\\site-packages\\sklearn\\ensemble\\_weight_boosting.py:527: FutureWarning: The SAMME.R algorithm (the default) is deprecated and will be removed in 1.6. Use the SAMME algorithm to circumvent this warning.\n",
      "  warnings.warn(\n",
      "C:\\Users\\mcnob\\AppData\\Local\\Packages\\PythonSoftwareFoundation.Python.3.10_qbz5n2kfra8p0\\LocalCache\\local-packages\\Python310\\site-packages\\sklearn\\ensemble\\_weight_boosting.py:527: FutureWarning: The SAMME.R algorithm (the default) is deprecated and will be removed in 1.6. Use the SAMME algorithm to circumvent this warning.\n",
      "  warnings.warn(\n",
      "C:\\Users\\mcnob\\AppData\\Local\\Packages\\PythonSoftwareFoundation.Python.3.10_qbz5n2kfra8p0\\LocalCache\\local-packages\\Python310\\site-packages\\sklearn\\ensemble\\_weight_boosting.py:527: FutureWarning: The SAMME.R algorithm (the default) is deprecated and will be removed in 1.6. Use the SAMME algorithm to circumvent this warning.\n",
      "  warnings.warn(\n",
      "C:\\Users\\mcnob\\AppData\\Local\\Packages\\PythonSoftwareFoundation.Python.3.10_qbz5n2kfra8p0\\LocalCache\\local-packages\\Python310\\site-packages\\sklearn\\ensemble\\_weight_boosting.py:527: FutureWarning: The SAMME.R algorithm (the default) is deprecated and will be removed in 1.6. Use the SAMME algorithm to circumvent this warning.\n",
      "  warnings.warn(\n",
      "C:\\Users\\mcnob\\AppData\\Local\\Packages\\PythonSoftwareFoundation.Python.3.10_qbz5n2kfra8p0\\LocalCache\\local-packages\\Python310\\site-packages\\sklearn\\ensemble\\_weight_boosting.py:527: FutureWarning: The SAMME.R algorithm (the default) is deprecated and will be removed in 1.6. Use the SAMME algorithm to circumvent this warning.\n",
      "  warnings.warn(\n",
      "C:\\Users\\mcnob\\AppData\\Local\\Packages\\PythonSoftwareFoundation.Python.3.10_qbz5n2kfra8p0\\LocalCache\\local-packages\\Python310\\site-packages\\sklearn\\ensemble\\_weight_boosting.py:527: FutureWarning: The SAMME.R algorithm (the default) is deprecated and will be removed in 1.6. Use the SAMME algorithm to circumvent this warning.\n",
      "  warnings.warn(\n",
      "C:\\Users\\mcnob\\AppData\\Local\\Packages\\PythonSoftwareFoundation.Python.3.10_qbz5n2kfra8p0\\LocalCache\\local-packages\\Python310\\site-packages\\sklearn\\ensemble\\_weight_boosting.py:527: FutureWarning: The SAMME.R algorithm (the default) is deprecated and will be removed in 1.6. Use the SAMME algorithm to circumvent this warning.\n",
      "  warnings.warn(\n",
      "C:\\Users\\mcnob\\AppData\\Local\\Packages\\PythonSoftwareFoundation.Python.3.10_qbz5n2kfra8p0\\LocalCache\\local-packages\\Python310\\site-packages\\sklearn\\ensemble\\_weight_boosting.py:527: FutureWarning: The SAMME.R algorithm (the default) is deprecated and will be removed in 1.6. Use the SAMME algorithm to circumvent this warning.\n",
      "  warnings.warn(\n",
      "C:\\Users\\mcnob\\AppData\\Local\\Packages\\PythonSoftwareFoundation.Python.3.10_qbz5n2kfra8p0\\LocalCache\\local-packages\\Python310\\site-packages\\sklearn\\ensemble\\_weight_boosting.py:527: FutureWarning: The SAMME.R algorithm (the default) is deprecated and will be removed in 1.6. Use the SAMME algorithm to circumvent this warning.\n",
      "  warnings.warn(\n",
      "C:\\Users\\mcnob\\AppData\\Local\\Packages\\PythonSoftwareFoundation.Python.3.10_qbz5n2kfra8p0\\LocalCache\\local-packages\\Python310\\site-packages\\sklearn\\ensemble\\_weight_boosting.py:527: FutureWarning: The SAMME.R algorithm (the default) is deprecated and will be removed in 1.6. Use the SAMME algorithm to circumvent this warning.\n",
      "  warnings.warn(\n",
      "C:\\Users\\mcnob\\AppData\\Local\\Packages\\PythonSoftwareFoundation.Python.3.10_qbz5n2kfra8p0\\LocalCache\\local-packages\\Python310\\site-packages\\sklearn\\ensemble\\_weight_boosting.py:527: FutureWarning: The SAMME.R algorithm (the default) is deprecated and will be removed in 1.6. Use the SAMME algorithm to circumvent this warning.\n",
      "  warnings.warn(\n",
      "C:\\Users\\mcnob\\AppData\\Local\\Packages\\PythonSoftwareFoundation.Python.3.10_qbz5n2kfra8p0\\LocalCache\\local-packages\\Python310\\site-packages\\sklearn\\ensemble\\_weight_boosting.py:527: FutureWarning: The SAMME.R algorithm (the default) is deprecated and will be removed in 1.6. Use the SAMME algorithm to circumvent this warning.\n",
      "  warnings.warn(\n"
     ]
    },
    {
     "name": "stdout",
     "output_type": "stream",
     "text": [
      "Ensemble Model Accuracy Score: 1.0\n",
      "Ensemble Model Precision Score: 1.0\n",
      "Ensemble Model F1 Score: 1.0\n"
     ]
    }
   ],
   "execution_count": 177
  },
  {
   "metadata": {
    "ExecuteTime": {
     "end_time": "2024-08-28T10:45:46.879332Z",
     "start_time": "2024-08-28T10:45:39.991269Z"
    }
   },
   "cell_type": "code",
   "source": [
    "# Define the parameter grid for Randomized Search on XGBoost model\n",
    "\n",
    "param_grid = {\n",
    "    'n_estimators': [100, 200, 300],\n",
    "    'max_depth': [4, 6, 8],\n",
    "    'learning_rate': [0.01, 0.1, 0.2],\n",
    "    'subsample': [0.8, 1.0],\n",
    "    'colsample_bytree': [0.8, 1.0]\n",
    "}\n",
    "\n",
    "# Perform randomized search with cross-validation for hyperparameter tuning of XGBoost model\n",
    "random_search = RandomizedSearchCV(xgb_model, param_distributions=param_grid, n_iter=50, cv=5, scoring='accuracy',\n",
    "                                   n_jobs=-1, random_state=42)\n",
    "random_search.fit(X_train, y_train)\n",
    "\n",
    "# Get the best model from the randomized search\n",
    "best_model = random_search.best_estimator_\n",
    "\n",
    "# Predict the target values on the test data using the best model\n",
    "y_pred_best = best_model.predict(X_test)\n",
    "\n",
    "# Evaluate the best model using various metrics\n",
    "print(f\"Tuned Ensemble Model Accuracy Score: {accuracy_score(y_test, y_pred_best)}\")\n",
    "print(f\"Tuned Ensemble Model Precision Score: {precision_score(y_test, y_pred_best)}\")\n",
    "print(f\"Tuned Ensemble Model F1 Score: {f1_score(y_test, y_pred_best)}\")"
   ],
   "id": "f5a2eee510075ba3",
   "outputs": [
    {
     "name": "stdout",
     "output_type": "stream",
     "text": [
      "Tuned Ensemble Model Accuracy Score: 1.0\n",
      "Tuned Ensemble Model Precision Score: 1.0\n",
      "Tuned Ensemble Model F1 Score: 1.0\n"
     ]
    }
   ],
   "execution_count": 178
  },
  {
   "metadata": {
    "ExecuteTime": {
     "end_time": "2024-08-28T10:45:47.904238Z",
     "start_time": "2024-08-28T10:45:46.882342Z"
    }
   },
   "cell_type": "code",
   "source": [
    "# Update the models list with the best models\n",
    "\n",
    "models = [\n",
    "    ('xgb', xgb_model),\n",
    "    ('dt', DecisionTreeClassifier()),\n",
    "    ('adaboost',ada_model),\n",
    "    ('bm', best_model),\n",
    "    ('bm2', ensemble_model)\n",
    "]\n",
    "\n",
    "# Initialize and fit a new Voting Classifier ensemble model with the updated models list\n",
    "ensemble_model = VotingClassifier(estimators=models)\n",
    "ensemble_model.fit(X_train, y_train)\n",
    "\n",
    "# Predict the target values on the test data using the new ensemble model\n",
    "y_pred_ensemble = ensemble_model.predict(X_test)\n",
    "\n",
    "# Evaluate the new ensemble model using various metrics\n",
    "print(f\"Ensemble Model Accuracy Score: {accuracy_score(y_test, y_pred_ensemble)}\")\n",
    "print(f\"Ensemble Model Precision Score: {precision_score(y_test, y_pred_ensemble)}\")\n",
    "print(f\"Ensemble Model F1 Score: {f1_score(y_test, y_pred_ensemble)}\")"
   ],
   "id": "32621b8c53e86671",
   "outputs": [
    {
     "name": "stderr",
     "output_type": "stream",
     "text": [
      "C:\\Users\\mcnob\\AppData\\Local\\Packages\\PythonSoftwareFoundation.Python.3.10_qbz5n2kfra8p0\\LocalCache\\local-packages\\Python310\\site-packages\\sklearn\\ensemble\\_weight_boosting.py:527: FutureWarning: The SAMME.R algorithm (the default) is deprecated and will be removed in 1.6. Use the SAMME algorithm to circumvent this warning.\n",
      "  warnings.warn(\n",
      "C:\\Users\\mcnob\\AppData\\Local\\Packages\\PythonSoftwareFoundation.Python.3.10_qbz5n2kfra8p0\\LocalCache\\local-packages\\Python310\\site-packages\\sklearn\\ensemble\\_weight_boosting.py:527: FutureWarning: The SAMME.R algorithm (the default) is deprecated and will be removed in 1.6. Use the SAMME algorithm to circumvent this warning.\n",
      "  warnings.warn(\n"
     ]
    },
    {
     "name": "stdout",
     "output_type": "stream",
     "text": [
      "Ensemble Model Accuracy Score: 1.0\n",
      "Ensemble Model Precision Score: 1.0\n",
      "Ensemble Model F1 Score: 1.0\n"
     ]
    }
   ],
   "execution_count": 179
  },
  {
   "metadata": {
    "ExecuteTime": {
     "end_time": "2024-08-28T10:45:48.251360Z",
     "start_time": "2024-08-28T10:45:47.907249Z"
    }
   },
   "cell_type": "code",
   "source": [
    "# Save the final ensemble model\n",
    "joblib.dump(ensemble_model, 'lateness_prediction_model.pkl')"
   ],
   "id": "27480f2cfff8c6f2",
   "outputs": [
    {
     "data": {
      "text/plain": [
       "['lateness_prediction_model.pkl']"
      ]
     },
     "execution_count": 180,
     "metadata": {},
     "output_type": "execute_result"
    }
   ],
   "execution_count": 180
  },
  {
   "metadata": {
    "ExecuteTime": {
     "end_time": "2024-08-28T10:45:48.267361Z",
     "start_time": "2024-08-28T10:45:48.254359Z"
    }
   },
   "cell_type": "code",
   "source": "",
   "id": "8a3ac0d8cf0651a2",
   "outputs": [],
   "execution_count": 180
  }
 ],
 "metadata": {
  "kernelspec": {
   "display_name": "Python 3",
   "language": "python",
   "name": "python3"
  },
  "language_info": {
   "codemirror_mode": {
    "name": "ipython",
    "version": 2
   },
   "file_extension": ".py",
   "mimetype": "text/x-python",
   "name": "python",
   "nbconvert_exporter": "python",
   "pygments_lexer": "ipython2",
   "version": "2.7.6"
  }
 },
 "nbformat": 4,
 "nbformat_minor": 5
}
